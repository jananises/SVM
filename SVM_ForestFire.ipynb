{
 "cells": [
  {
   "cell_type": "markdown",
   "metadata": {},
   "source": [
    "# Classify the Size Category of Forest Fire using SVM"
   ]
  },
  {
   "cell_type": "code",
   "execution_count": 1,
   "metadata": {},
   "outputs": [],
   "source": [
    "#Load the required libraries\n",
    "import pandas as pd\n",
    "import numpy as np\n",
    "import matplotlib.pyplot as plt\n",
    "%matplotlib inline\n",
    "import seaborn as sns"
   ]
  },
  {
   "cell_type": "code",
   "execution_count": 119,
   "metadata": {},
   "outputs": [
    {
     "data": {
      "text/html": [
       "<div>\n",
       "<style scoped>\n",
       "    .dataframe tbody tr th:only-of-type {\n",
       "        vertical-align: middle;\n",
       "    }\n",
       "\n",
       "    .dataframe tbody tr th {\n",
       "        vertical-align: top;\n",
       "    }\n",
       "\n",
       "    .dataframe thead th {\n",
       "        text-align: right;\n",
       "    }\n",
       "</style>\n",
       "<table border=\"1\" class=\"dataframe\">\n",
       "  <thead>\n",
       "    <tr style=\"text-align: right;\">\n",
       "      <th></th>\n",
       "      <th>month</th>\n",
       "      <th>day</th>\n",
       "      <th>FFMC</th>\n",
       "      <th>DMC</th>\n",
       "      <th>DC</th>\n",
       "      <th>ISI</th>\n",
       "      <th>temp</th>\n",
       "      <th>RH</th>\n",
       "      <th>wind</th>\n",
       "      <th>rain</th>\n",
       "      <th>...</th>\n",
       "      <th>monthfeb</th>\n",
       "      <th>monthjan</th>\n",
       "      <th>monthjul</th>\n",
       "      <th>monthjun</th>\n",
       "      <th>monthmar</th>\n",
       "      <th>monthmay</th>\n",
       "      <th>monthnov</th>\n",
       "      <th>monthoct</th>\n",
       "      <th>monthsep</th>\n",
       "      <th>size_category</th>\n",
       "    </tr>\n",
       "  </thead>\n",
       "  <tbody>\n",
       "    <tr>\n",
       "      <th>0</th>\n",
       "      <td>mar</td>\n",
       "      <td>fri</td>\n",
       "      <td>86.2</td>\n",
       "      <td>26.2</td>\n",
       "      <td>94.3</td>\n",
       "      <td>5.1</td>\n",
       "      <td>8.2</td>\n",
       "      <td>51</td>\n",
       "      <td>6.7</td>\n",
       "      <td>0.0</td>\n",
       "      <td>...</td>\n",
       "      <td>0</td>\n",
       "      <td>0</td>\n",
       "      <td>0</td>\n",
       "      <td>0</td>\n",
       "      <td>1</td>\n",
       "      <td>0</td>\n",
       "      <td>0</td>\n",
       "      <td>0</td>\n",
       "      <td>0</td>\n",
       "      <td>small</td>\n",
       "    </tr>\n",
       "    <tr>\n",
       "      <th>1</th>\n",
       "      <td>oct</td>\n",
       "      <td>tue</td>\n",
       "      <td>90.6</td>\n",
       "      <td>35.4</td>\n",
       "      <td>669.1</td>\n",
       "      <td>6.7</td>\n",
       "      <td>18.0</td>\n",
       "      <td>33</td>\n",
       "      <td>0.9</td>\n",
       "      <td>0.0</td>\n",
       "      <td>...</td>\n",
       "      <td>0</td>\n",
       "      <td>0</td>\n",
       "      <td>0</td>\n",
       "      <td>0</td>\n",
       "      <td>0</td>\n",
       "      <td>0</td>\n",
       "      <td>0</td>\n",
       "      <td>1</td>\n",
       "      <td>0</td>\n",
       "      <td>small</td>\n",
       "    </tr>\n",
       "    <tr>\n",
       "      <th>2</th>\n",
       "      <td>oct</td>\n",
       "      <td>sat</td>\n",
       "      <td>90.6</td>\n",
       "      <td>43.7</td>\n",
       "      <td>686.9</td>\n",
       "      <td>6.7</td>\n",
       "      <td>14.6</td>\n",
       "      <td>33</td>\n",
       "      <td>1.3</td>\n",
       "      <td>0.0</td>\n",
       "      <td>...</td>\n",
       "      <td>0</td>\n",
       "      <td>0</td>\n",
       "      <td>0</td>\n",
       "      <td>0</td>\n",
       "      <td>0</td>\n",
       "      <td>0</td>\n",
       "      <td>0</td>\n",
       "      <td>1</td>\n",
       "      <td>0</td>\n",
       "      <td>small</td>\n",
       "    </tr>\n",
       "    <tr>\n",
       "      <th>3</th>\n",
       "      <td>mar</td>\n",
       "      <td>fri</td>\n",
       "      <td>91.7</td>\n",
       "      <td>33.3</td>\n",
       "      <td>77.5</td>\n",
       "      <td>9.0</td>\n",
       "      <td>8.3</td>\n",
       "      <td>97</td>\n",
       "      <td>4.0</td>\n",
       "      <td>0.2</td>\n",
       "      <td>...</td>\n",
       "      <td>0</td>\n",
       "      <td>0</td>\n",
       "      <td>0</td>\n",
       "      <td>0</td>\n",
       "      <td>1</td>\n",
       "      <td>0</td>\n",
       "      <td>0</td>\n",
       "      <td>0</td>\n",
       "      <td>0</td>\n",
       "      <td>small</td>\n",
       "    </tr>\n",
       "    <tr>\n",
       "      <th>4</th>\n",
       "      <td>mar</td>\n",
       "      <td>sun</td>\n",
       "      <td>89.3</td>\n",
       "      <td>51.3</td>\n",
       "      <td>102.2</td>\n",
       "      <td>9.6</td>\n",
       "      <td>11.4</td>\n",
       "      <td>99</td>\n",
       "      <td>1.8</td>\n",
       "      <td>0.0</td>\n",
       "      <td>...</td>\n",
       "      <td>0</td>\n",
       "      <td>0</td>\n",
       "      <td>0</td>\n",
       "      <td>0</td>\n",
       "      <td>1</td>\n",
       "      <td>0</td>\n",
       "      <td>0</td>\n",
       "      <td>0</td>\n",
       "      <td>0</td>\n",
       "      <td>small</td>\n",
       "    </tr>\n",
       "  </tbody>\n",
       "</table>\n",
       "<p>5 rows × 31 columns</p>\n",
       "</div>"
      ],
      "text/plain": [
       "  month  day  FFMC   DMC     DC  ISI  temp  RH  wind  rain  ...  monthfeb  \\\n",
       "0   mar  fri  86.2  26.2   94.3  5.1   8.2  51   6.7   0.0  ...         0   \n",
       "1   oct  tue  90.6  35.4  669.1  6.7  18.0  33   0.9   0.0  ...         0   \n",
       "2   oct  sat  90.6  43.7  686.9  6.7  14.6  33   1.3   0.0  ...         0   \n",
       "3   mar  fri  91.7  33.3   77.5  9.0   8.3  97   4.0   0.2  ...         0   \n",
       "4   mar  sun  89.3  51.3  102.2  9.6  11.4  99   1.8   0.0  ...         0   \n",
       "\n",
       "   monthjan  monthjul  monthjun  monthmar  monthmay  monthnov  monthoct  \\\n",
       "0         0         0         0         1         0         0         0   \n",
       "1         0         0         0         0         0         0         1   \n",
       "2         0         0         0         0         0         0         1   \n",
       "3         0         0         0         1         0         0         0   \n",
       "4         0         0         0         1         0         0         0   \n",
       "\n",
       "   monthsep  size_category  \n",
       "0         0          small  \n",
       "1         0          small  \n",
       "2         0          small  \n",
       "3         0          small  \n",
       "4         0          small  \n",
       "\n",
       "[5 rows x 31 columns]"
      ]
     },
     "execution_count": 119,
     "metadata": {},
     "output_type": "execute_result"
    }
   ],
   "source": [
    "#Loading the datasets\n",
    "forest_fire=pd.read_csv('C:/Data Science/Assignments/SVM/forestfires.csv')\n",
    "forest_fire.head()"
   ]
  },
  {
   "cell_type": "code",
   "execution_count": 120,
   "metadata": {},
   "outputs": [
    {
     "data": {
      "text/plain": [
       "array(['month', 'day', 'FFMC', 'DMC', 'DC', 'ISI', 'temp', 'RH', 'wind',\n",
       "       'rain', 'area', 'dayfri', 'daymon', 'daysat', 'daysun', 'daythu',\n",
       "       'daytue', 'daywed', 'monthapr', 'monthaug', 'monthdec', 'monthfeb',\n",
       "       'monthjan', 'monthjul', 'monthjun', 'monthmar', 'monthmay',\n",
       "       'monthnov', 'monthoct', 'monthsep', 'size_category'], dtype=object)"
      ]
     },
     "execution_count": 120,
     "metadata": {},
     "output_type": "execute_result"
    }
   ],
   "source": [
    "forest_fire.columns.values"
   ]
  },
  {
   "cell_type": "code",
   "execution_count": 107,
   "metadata": {},
   "outputs": [
    {
     "name": "stdout",
     "output_type": "stream",
     "text": [
      "<class 'pandas.core.frame.DataFrame'>\n",
      "RangeIndex: 517 entries, 0 to 516\n",
      "Data columns (total 31 columns):\n",
      " #   Column         Non-Null Count  Dtype  \n",
      "---  ------         --------------  -----  \n",
      " 0   month          517 non-null    object \n",
      " 1   day            517 non-null    object \n",
      " 2   FFMC           517 non-null    float64\n",
      " 3   DMC            517 non-null    float64\n",
      " 4   DC             517 non-null    float64\n",
      " 5   ISI            517 non-null    float64\n",
      " 6   temp           517 non-null    float64\n",
      " 7   RH             517 non-null    int64  \n",
      " 8   wind           517 non-null    float64\n",
      " 9   rain           517 non-null    float64\n",
      " 10  area           517 non-null    float64\n",
      " 11  dayfri         517 non-null    int64  \n",
      " 12  daymon         517 non-null    int64  \n",
      " 13  daysat         517 non-null    int64  \n",
      " 14  daysun         517 non-null    int64  \n",
      " 15  daythu         517 non-null    int64  \n",
      " 16  daytue         517 non-null    int64  \n",
      " 17  daywed         517 non-null    int64  \n",
      " 18  monthapr       517 non-null    int64  \n",
      " 19  monthaug       517 non-null    int64  \n",
      " 20  monthdec       517 non-null    int64  \n",
      " 21  monthfeb       517 non-null    int64  \n",
      " 22  monthjan       517 non-null    int64  \n",
      " 23  monthjul       517 non-null    int64  \n",
      " 24  monthjun       517 non-null    int64  \n",
      " 25  monthmar       517 non-null    int64  \n",
      " 26  monthmay       517 non-null    int64  \n",
      " 27  monthnov       517 non-null    int64  \n",
      " 28  monthoct       517 non-null    int64  \n",
      " 29  monthsep       517 non-null    int64  \n",
      " 30  size_category  517 non-null    object \n",
      "dtypes: float64(8), int64(20), object(3)\n",
      "memory usage: 125.3+ KB\n"
     ]
    }
   ],
   "source": [
    "forest_fire.info()"
   ]
  },
  {
   "cell_type": "code",
   "execution_count": 108,
   "metadata": {},
   "outputs": [
    {
     "data": {
      "text/plain": [
       "(517, 31)"
      ]
     },
     "execution_count": 108,
     "metadata": {},
     "output_type": "execute_result"
    }
   ],
   "source": [
    "forest_fire.shape"
   ]
  },
  {
   "cell_type": "code",
   "execution_count": 109,
   "metadata": {},
   "outputs": [
    {
     "data": {
      "text/plain": [
       "month            False\n",
       "day              False\n",
       "FFMC             False\n",
       "DMC              False\n",
       "DC               False\n",
       "ISI              False\n",
       "temp             False\n",
       "RH               False\n",
       "wind             False\n",
       "rain             False\n",
       "area             False\n",
       "dayfri           False\n",
       "daymon           False\n",
       "daysat           False\n",
       "daysun           False\n",
       "daythu           False\n",
       "daytue           False\n",
       "daywed           False\n",
       "monthapr         False\n",
       "monthaug         False\n",
       "monthdec         False\n",
       "monthfeb         False\n",
       "monthjan         False\n",
       "monthjul         False\n",
       "monthjun         False\n",
       "monthmar         False\n",
       "monthmay         False\n",
       "monthnov         False\n",
       "monthoct         False\n",
       "monthsep         False\n",
       "size_category    False\n",
       "dtype: bool"
      ]
     },
     "execution_count": 109,
     "metadata": {},
     "output_type": "execute_result"
    }
   ],
   "source": [
    "#Check for any missing values\n",
    "#forest_fire.isna().sum()\n",
    "#Check for missing values\n",
    "forest_fire.isnull().any()"
   ]
  },
  {
   "cell_type": "code",
   "execution_count": 121,
   "metadata": {},
   "outputs": [
    {
     "data": {
      "text/plain": [
       "array([['mar', 'fri', 86.2, 26.2, 94.3, 5.1, 8.2, 51, 6.7, 0.0, 0.0, 1,\n",
       "        0, 0, 0, 0, 0, 0],\n",
       "       ['oct', 'tue', 90.6, 35.4, 669.1, 6.7, 18.0, 33, 0.9, 0.0, 0.0, 0,\n",
       "        0, 0, 0, 0, 1, 0]], dtype=object)"
      ]
     },
     "execution_count": 121,
     "metadata": {},
     "output_type": "execute_result"
    }
   ],
   "source": [
    "forest_fire.iloc[0:2,0:18].values"
   ]
  },
  {
   "cell_type": "code",
   "execution_count": 122,
   "metadata": {},
   "outputs": [],
   "source": [
    "forest_data = forest_fire"
   ]
  },
  {
   "cell_type": "code",
   "execution_count": 123,
   "metadata": {},
   "outputs": [],
   "source": [
    "#Remove Extra Columns\n",
    "forest_fire = forest_data.drop(['dayfri','daymon','daysat','daysun','daythu','daytue','daywed','monthapr','monthaug','monthdec','monthfeb',\n",
    "                      'monthjan','monthjul','monthjun','monthmar','monthmay','monthnov',\n",
    "                      'monthoct','monthsep'],axis=1)"
   ]
  },
  {
   "cell_type": "code",
   "execution_count": 124,
   "metadata": {},
   "outputs": [
    {
     "data": {
      "text/plain": [
       "(517, 12)"
      ]
     },
     "execution_count": 124,
     "metadata": {},
     "output_type": "execute_result"
    }
   ],
   "source": [
    "forest_fire.shape"
   ]
  },
  {
   "cell_type": "code",
   "execution_count": 125,
   "metadata": {},
   "outputs": [
    {
     "data": {
      "text/plain": [
       "<bound method NDFrame.describe of     month  day  FFMC    DMC     DC   ISI  temp  RH  wind  rain   area  \\\n",
       "0     mar  fri  86.2   26.2   94.3   5.1   8.2  51   6.7   0.0   0.00   \n",
       "1     oct  tue  90.6   35.4  669.1   6.7  18.0  33   0.9   0.0   0.00   \n",
       "2     oct  sat  90.6   43.7  686.9   6.7  14.6  33   1.3   0.0   0.00   \n",
       "3     mar  fri  91.7   33.3   77.5   9.0   8.3  97   4.0   0.2   0.00   \n",
       "4     mar  sun  89.3   51.3  102.2   9.6  11.4  99   1.8   0.0   0.00   \n",
       "..    ...  ...   ...    ...    ...   ...   ...  ..   ...   ...    ...   \n",
       "512   aug  sun  81.6   56.7  665.6   1.9  27.8  32   2.7   0.0   6.44   \n",
       "513   aug  sun  81.6   56.7  665.6   1.9  21.9  71   5.8   0.0  54.29   \n",
       "514   aug  sun  81.6   56.7  665.6   1.9  21.2  70   6.7   0.0  11.16   \n",
       "515   aug  sat  94.4  146.0  614.7  11.3  25.6  42   4.0   0.0   0.00   \n",
       "516   nov  tue  79.5    3.0  106.7   1.1  11.8  31   4.5   0.0   0.00   \n",
       "\n",
       "    size_category  \n",
       "0           small  \n",
       "1           small  \n",
       "2           small  \n",
       "3           small  \n",
       "4           small  \n",
       "..            ...  \n",
       "512         large  \n",
       "513         large  \n",
       "514         large  \n",
       "515         small  \n",
       "516         small  \n",
       "\n",
       "[517 rows x 12 columns]>"
      ]
     },
     "execution_count": 125,
     "metadata": {},
     "output_type": "execute_result"
    }
   ],
   "source": [
    "#Descriptive Statistics\n",
    "forest_fire.describe"
   ]
  },
  {
   "cell_type": "code",
   "execution_count": 126,
   "metadata": {},
   "outputs": [],
   "source": [
    "#Data Pre-Processing\n",
    "# Encode Data for Month and Day\n",
    "forest_fire.month.replace(('jan','feb','mar','apr','may','jun','jul','aug','sep','oct','nov','dec'),(1,2,3,4,5,6,7,8,9,10,11,12), inplace=True)\n",
    "forest_fire.day.replace(('mon','tue','wed','thu','fri','sat','sun'),(1,2,3,4,5,6,7), inplace=True)"
   ]
  },
  {
   "cell_type": "code",
   "execution_count": 127,
   "metadata": {},
   "outputs": [
    {
     "data": {
      "text/html": [
       "<div>\n",
       "<style scoped>\n",
       "    .dataframe tbody tr th:only-of-type {\n",
       "        vertical-align: middle;\n",
       "    }\n",
       "\n",
       "    .dataframe tbody tr th {\n",
       "        vertical-align: top;\n",
       "    }\n",
       "\n",
       "    .dataframe thead th {\n",
       "        text-align: right;\n",
       "    }\n",
       "</style>\n",
       "<table border=\"1\" class=\"dataframe\">\n",
       "  <thead>\n",
       "    <tr style=\"text-align: right;\">\n",
       "      <th></th>\n",
       "      <th>month</th>\n",
       "      <th>day</th>\n",
       "      <th>FFMC</th>\n",
       "      <th>DMC</th>\n",
       "      <th>DC</th>\n",
       "      <th>ISI</th>\n",
       "      <th>temp</th>\n",
       "      <th>RH</th>\n",
       "      <th>wind</th>\n",
       "      <th>rain</th>\n",
       "      <th>area</th>\n",
       "      <th>size_category</th>\n",
       "    </tr>\n",
       "  </thead>\n",
       "  <tbody>\n",
       "    <tr>\n",
       "      <th>0</th>\n",
       "      <td>3</td>\n",
       "      <td>5</td>\n",
       "      <td>86.2</td>\n",
       "      <td>26.2</td>\n",
       "      <td>94.3</td>\n",
       "      <td>5.1</td>\n",
       "      <td>8.2</td>\n",
       "      <td>51</td>\n",
       "      <td>6.7</td>\n",
       "      <td>0.0</td>\n",
       "      <td>0.0</td>\n",
       "      <td>small</td>\n",
       "    </tr>\n",
       "    <tr>\n",
       "      <th>1</th>\n",
       "      <td>10</td>\n",
       "      <td>2</td>\n",
       "      <td>90.6</td>\n",
       "      <td>35.4</td>\n",
       "      <td>669.1</td>\n",
       "      <td>6.7</td>\n",
       "      <td>18.0</td>\n",
       "      <td>33</td>\n",
       "      <td>0.9</td>\n",
       "      <td>0.0</td>\n",
       "      <td>0.0</td>\n",
       "      <td>small</td>\n",
       "    </tr>\n",
       "    <tr>\n",
       "      <th>2</th>\n",
       "      <td>10</td>\n",
       "      <td>6</td>\n",
       "      <td>90.6</td>\n",
       "      <td>43.7</td>\n",
       "      <td>686.9</td>\n",
       "      <td>6.7</td>\n",
       "      <td>14.6</td>\n",
       "      <td>33</td>\n",
       "      <td>1.3</td>\n",
       "      <td>0.0</td>\n",
       "      <td>0.0</td>\n",
       "      <td>small</td>\n",
       "    </tr>\n",
       "    <tr>\n",
       "      <th>3</th>\n",
       "      <td>3</td>\n",
       "      <td>5</td>\n",
       "      <td>91.7</td>\n",
       "      <td>33.3</td>\n",
       "      <td>77.5</td>\n",
       "      <td>9.0</td>\n",
       "      <td>8.3</td>\n",
       "      <td>97</td>\n",
       "      <td>4.0</td>\n",
       "      <td>0.2</td>\n",
       "      <td>0.0</td>\n",
       "      <td>small</td>\n",
       "    </tr>\n",
       "    <tr>\n",
       "      <th>4</th>\n",
       "      <td>3</td>\n",
       "      <td>7</td>\n",
       "      <td>89.3</td>\n",
       "      <td>51.3</td>\n",
       "      <td>102.2</td>\n",
       "      <td>9.6</td>\n",
       "      <td>11.4</td>\n",
       "      <td>99</td>\n",
       "      <td>1.8</td>\n",
       "      <td>0.0</td>\n",
       "      <td>0.0</td>\n",
       "      <td>small</td>\n",
       "    </tr>\n",
       "  </tbody>\n",
       "</table>\n",
       "</div>"
      ],
      "text/plain": [
       "   month  day  FFMC   DMC     DC  ISI  temp  RH  wind  rain  area  \\\n",
       "0      3    5  86.2  26.2   94.3  5.1   8.2  51   6.7   0.0   0.0   \n",
       "1     10    2  90.6  35.4  669.1  6.7  18.0  33   0.9   0.0   0.0   \n",
       "2     10    6  90.6  43.7  686.9  6.7  14.6  33   1.3   0.0   0.0   \n",
       "3      3    5  91.7  33.3   77.5  9.0   8.3  97   4.0   0.2   0.0   \n",
       "4      3    7  89.3  51.3  102.2  9.6  11.4  99   1.8   0.0   0.0   \n",
       "\n",
       "  size_category  \n",
       "0         small  \n",
       "1         small  \n",
       "2         small  \n",
       "3         small  \n",
       "4         small  "
      ]
     },
     "execution_count": 127,
     "metadata": {},
     "output_type": "execute_result"
    }
   ],
   "source": [
    "forest_fire.head()"
   ]
  },
  {
   "cell_type": "code",
   "execution_count": 128,
   "metadata": {},
   "outputs": [
    {
     "name": "stdout",
     "output_type": "stream",
     "text": [
      "{'large', 'small'}\n"
     ]
    }
   ],
   "source": [
    "#let's see how many unique categories we have in this output class - size category\n",
    "size_set = set(forest_fire['size_category'])\n",
    "print(size_set)"
   ]
  },
  {
   "cell_type": "code",
   "execution_count": 129,
   "metadata": {},
   "outputs": [],
   "source": [
    "# Just transforming size category to category 1 and 0.\n",
    "forest_fire['size_category'] = forest_fire['size_category'].map({'small': 0, 'large': 1}).astype(int)"
   ]
  },
  {
   "cell_type": "code",
   "execution_count": 130,
   "metadata": {},
   "outputs": [
    {
     "data": {
      "text/plain": [
       "month              int64\n",
       "day                int64\n",
       "FFMC             float64\n",
       "DMC              float64\n",
       "DC               float64\n",
       "ISI              float64\n",
       "temp             float64\n",
       "RH                 int64\n",
       "wind             float64\n",
       "rain             float64\n",
       "area             float64\n",
       "size_category      int32\n",
       "dtype: object"
      ]
     },
     "execution_count": 130,
     "metadata": {},
     "output_type": "execute_result"
    }
   ],
   "source": [
    "forest_fire.dtypes"
   ]
  },
  {
   "cell_type": "code",
   "execution_count": 131,
   "metadata": {},
   "outputs": [
    {
     "data": {
      "text/html": [
       "<div>\n",
       "<style scoped>\n",
       "    .dataframe tbody tr th:only-of-type {\n",
       "        vertical-align: middle;\n",
       "    }\n",
       "\n",
       "    .dataframe tbody tr th {\n",
       "        vertical-align: top;\n",
       "    }\n",
       "\n",
       "    .dataframe thead th {\n",
       "        text-align: right;\n",
       "    }\n",
       "</style>\n",
       "<table border=\"1\" class=\"dataframe\">\n",
       "  <thead>\n",
       "    <tr style=\"text-align: right;\">\n",
       "      <th></th>\n",
       "      <th>month</th>\n",
       "      <th>day</th>\n",
       "      <th>FFMC</th>\n",
       "      <th>DMC</th>\n",
       "      <th>DC</th>\n",
       "      <th>ISI</th>\n",
       "      <th>temp</th>\n",
       "      <th>RH</th>\n",
       "      <th>wind</th>\n",
       "      <th>rain</th>\n",
       "      <th>area</th>\n",
       "      <th>size_category</th>\n",
       "    </tr>\n",
       "  </thead>\n",
       "  <tbody>\n",
       "    <tr>\n",
       "      <th>512</th>\n",
       "      <td>8</td>\n",
       "      <td>7</td>\n",
       "      <td>81.6</td>\n",
       "      <td>56.7</td>\n",
       "      <td>665.6</td>\n",
       "      <td>1.9</td>\n",
       "      <td>27.8</td>\n",
       "      <td>32</td>\n",
       "      <td>2.7</td>\n",
       "      <td>0.0</td>\n",
       "      <td>6.44</td>\n",
       "      <td>1</td>\n",
       "    </tr>\n",
       "    <tr>\n",
       "      <th>513</th>\n",
       "      <td>8</td>\n",
       "      <td>7</td>\n",
       "      <td>81.6</td>\n",
       "      <td>56.7</td>\n",
       "      <td>665.6</td>\n",
       "      <td>1.9</td>\n",
       "      <td>21.9</td>\n",
       "      <td>71</td>\n",
       "      <td>5.8</td>\n",
       "      <td>0.0</td>\n",
       "      <td>54.29</td>\n",
       "      <td>1</td>\n",
       "    </tr>\n",
       "    <tr>\n",
       "      <th>514</th>\n",
       "      <td>8</td>\n",
       "      <td>7</td>\n",
       "      <td>81.6</td>\n",
       "      <td>56.7</td>\n",
       "      <td>665.6</td>\n",
       "      <td>1.9</td>\n",
       "      <td>21.2</td>\n",
       "      <td>70</td>\n",
       "      <td>6.7</td>\n",
       "      <td>0.0</td>\n",
       "      <td>11.16</td>\n",
       "      <td>1</td>\n",
       "    </tr>\n",
       "    <tr>\n",
       "      <th>515</th>\n",
       "      <td>8</td>\n",
       "      <td>6</td>\n",
       "      <td>94.4</td>\n",
       "      <td>146.0</td>\n",
       "      <td>614.7</td>\n",
       "      <td>11.3</td>\n",
       "      <td>25.6</td>\n",
       "      <td>42</td>\n",
       "      <td>4.0</td>\n",
       "      <td>0.0</td>\n",
       "      <td>0.00</td>\n",
       "      <td>0</td>\n",
       "    </tr>\n",
       "    <tr>\n",
       "      <th>516</th>\n",
       "      <td>11</td>\n",
       "      <td>2</td>\n",
       "      <td>79.5</td>\n",
       "      <td>3.0</td>\n",
       "      <td>106.7</td>\n",
       "      <td>1.1</td>\n",
       "      <td>11.8</td>\n",
       "      <td>31</td>\n",
       "      <td>4.5</td>\n",
       "      <td>0.0</td>\n",
       "      <td>0.00</td>\n",
       "      <td>0</td>\n",
       "    </tr>\n",
       "  </tbody>\n",
       "</table>\n",
       "</div>"
      ],
      "text/plain": [
       "     month  day  FFMC    DMC     DC   ISI  temp  RH  wind  rain   area  \\\n",
       "512      8    7  81.6   56.7  665.6   1.9  27.8  32   2.7   0.0   6.44   \n",
       "513      8    7  81.6   56.7  665.6   1.9  21.9  71   5.8   0.0  54.29   \n",
       "514      8    7  81.6   56.7  665.6   1.9  21.2  70   6.7   0.0  11.16   \n",
       "515      8    6  94.4  146.0  614.7  11.3  25.6  42   4.0   0.0   0.00   \n",
       "516     11    2  79.5    3.0  106.7   1.1  11.8  31   4.5   0.0   0.00   \n",
       "\n",
       "     size_category  \n",
       "512              1  \n",
       "513              1  \n",
       "514              1  \n",
       "515              0  \n",
       "516              0  "
      ]
     },
     "execution_count": 131,
     "metadata": {},
     "output_type": "execute_result"
    }
   ],
   "source": [
    "forest_fire.tail()"
   ]
  },
  {
   "cell_type": "code",
   "execution_count": 161,
   "metadata": {},
   "outputs": [
    {
     "data": {
      "text/plain": [
       "array([[<matplotlib.axes._subplots.AxesSubplot object at 0x000000BB3B771408>,\n",
       "        <matplotlib.axes._subplots.AxesSubplot object at 0x000000BB3B6D0E88>,\n",
       "        <matplotlib.axes._subplots.AxesSubplot object at 0x000000BB3B7ACAC8>],\n",
       "       [<matplotlib.axes._subplots.AxesSubplot object at 0x000000BB3B7E4348>,\n",
       "        <matplotlib.axes._subplots.AxesSubplot object at 0x000000BB3B819D48>,\n",
       "        <matplotlib.axes._subplots.AxesSubplot object at 0x000000BB3B8527C8>],\n",
       "       [<matplotlib.axes._subplots.AxesSubplot object at 0x000000BB3B6BA248>,\n",
       "        <matplotlib.axes._subplots.AxesSubplot object at 0x000000BB3B66EB88>,\n",
       "        <matplotlib.axes._subplots.AxesSubplot object at 0x000000BB3B684A08>],\n",
       "       [<matplotlib.axes._subplots.AxesSubplot object at 0x000000BB3B53B608>,\n",
       "        <matplotlib.axes._subplots.AxesSubplot object at 0x000000BB3B42A8C8>,\n",
       "        <matplotlib.axes._subplots.AxesSubplot object at 0x000000BB3B553F88>]],\n",
       "      dtype=object)"
      ]
     },
     "execution_count": 161,
     "metadata": {},
     "output_type": "execute_result"
    },
    {
     "data": {
      "image/png": "[encoded data removed]",
      "text/plain": [
       "<Figure size 432x288 with 12 Axes>"
      ]
     },
     "metadata": {},
     "output_type": "display_data"
    }
   ],
   "source": [
    "forest_fire.hist()\n",
    "#Observation 'Temp' has a near Guassian/Normal Distribution. There are a mixture of positive skews and negative skews among the other attributes"
   ]
  },
  {
   "cell_type": "code",
   "execution_count": 162,
   "metadata": {},
   "outputs": [
    {
     "data": {
      "text/plain": [
       "(array([508.,   6.,   1.,   0.,   0.,   0.,   1.,   0.,   0.,   1.]),\n",
       " array([   0.   ,  109.084,  218.168,  327.252,  436.336,  545.42 ,\n",
       "         654.504,  763.588,  872.672,  981.756, 1090.84 ]),\n",
       " <a list of 10 Patch objects>)"
      ]
     },
     "execution_count": 162,
     "metadata": {},
     "output_type": "execute_result"
    },
    {
     "data": {
      "image/png": "[encoded data removed]",
      "text/plain": [
       "<Figure size 432x288 with 1 Axes>"
      ]
     },
     "metadata": {},
     "output_type": "display_data"
    }
   ],
   "source": [
    "plt.hist(forest_fire.area)\n",
    "#Observation Most of the dataset's samples fall between 0 and 200 of 'Area' "
   ]
  },
  {
   "cell_type": "code",
   "execution_count": 167,
   "metadata": {},
   "outputs": [
    {
     "data": {
      "image/png": "[encoded data removed]",
      "text/plain": [
       "<Figure size 432x288 with 16 Axes>"
      ]
     },
     "metadata": {},
     "output_type": "display_data"
    }
   ],
   "source": [
    "#Box Plot\n",
    "forest_fire.plot(kind='box',subplots=True, layout=(4,4), sharex=False, sharey=False)\n",
    "plt.show()"
   ]
  },
  {
   "cell_type": "code",
   "execution_count": 133,
   "metadata": {},
   "outputs": [
    {
     "name": "stdout",
     "output_type": "stream",
     "text": [
      "Correlation:                   month       day      FFMC       DMC        DC       ISI  \\\n",
      "month          1.000000 -0.050837  0.291477  0.466645  0.868698  0.186597   \n",
      "day           -0.050837  1.000000 -0.041068  0.062870  0.000105  0.032909   \n",
      "FFMC           0.291477 -0.041068  1.000000  0.382619  0.330512  0.531805   \n",
      "DMC            0.466645  0.062870  0.382619  1.000000  0.682192  0.305128   \n",
      "DC             0.868698  0.000105  0.330512  0.682192  1.000000  0.229154   \n",
      "ISI            0.186597  0.032909  0.531805  0.305128  0.229154  1.000000   \n",
      "temp           0.368842  0.052190  0.431532  0.469594  0.496208  0.394287   \n",
      "RH            -0.095280  0.092151 -0.300995  0.073795 -0.039192 -0.132517   \n",
      "wind          -0.086368  0.032478 -0.028485 -0.105342 -0.203466  0.106826   \n",
      "rain           0.013438 -0.048340  0.056702  0.074790  0.035861  0.067668   \n",
      "area           0.056496  0.023226  0.040122  0.072994  0.049383  0.008258   \n",
      "size_category  0.080316  0.016796  0.022063  0.034715  0.019428 -0.008726   \n",
      "\n",
      "                   temp        RH      wind      rain      area  size_category  \n",
      "month          0.368842 -0.095280 -0.086368  0.013438  0.056496       0.080316  \n",
      "day            0.052190  0.092151  0.032478 -0.048340  0.023226       0.016796  \n",
      "FFMC           0.431532 -0.300995 -0.028485  0.056702  0.040122       0.022063  \n",
      "DMC            0.469594  0.073795 -0.105342  0.074790  0.072994       0.034715  \n",
      "DC             0.496208 -0.039192 -0.203466  0.035861  0.049383       0.019428  \n",
      "ISI            0.394287 -0.132517  0.106826  0.067668  0.008258      -0.008726  \n",
      "temp           1.000000 -0.527390 -0.227116  0.069491  0.097844       0.006021  \n",
      "RH            -0.527390  1.000000  0.069410  0.099751 -0.075519      -0.045243  \n",
      "wind          -0.227116  0.069410  1.000000  0.061119  0.012317       0.059113  \n",
      "rain           0.069491  0.099751  0.061119  1.000000 -0.007366       0.050001  \n",
      "area           0.097844 -0.075519  0.012317 -0.007366  1.000000       0.311322  \n",
      "size_category  0.006021 -0.045243  0.059113  0.050001  0.311322       1.000000  \n"
     ]
    }
   ],
   "source": [
    "#Correlation Matrix for Data Analysis\n",
    "print(\"Correlation:\", forest_fire.corr(method='pearson'))"
   ]
  },
  {
   "cell_type": "code",
   "execution_count": 134,
   "metadata": {},
   "outputs": [
    {
     "data": {
      "image/png": "[encoded data removed]",
      "text/plain": [
       "<Figure size 864x648 with 2 Axes>"
      ]
     },
     "metadata": {},
     "output_type": "display_data"
    }
   ],
   "source": [
    "#correlation matrix\n",
    "corrmat = forest_fire.corr()\n",
    "f, ax = plt.subplots(figsize=(12, 9))\n",
    "sns.heatmap(corrmat, vmax=.8, square=True);"
   ]
  },
  {
   "cell_type": "code",
   "execution_count": 88,
   "metadata": {},
   "outputs": [
    {
     "data": {
      "image/png": "[encoded data removed]",
      "text/plain": [
       "<Figure size 432x288 with 2 Axes>"
      ]
     },
     "metadata": {},
     "output_type": "display_data"
    }
   ],
   "source": [
    "k = 12 #number of variables for heatmap\n",
    "cols = corrmat.nlargest(k, 'size_category')['size_category'].index\n",
    "cm = np.corrcoef(forest_fire[cols].values.T)\n",
    "sns.set(font_scale=1.25)\n",
    "hm = sns.heatmap(cm, cbar=True, annot=True, square=True, fmt='.2f', annot_kws={'size': 10}, yticklabels=cols.values, xticklabels=cols.values)\n",
    "plt.show()"
   ]
  },
  {
   "cell_type": "code",
   "execution_count": 135,
   "metadata": {},
   "outputs": [
    {
     "name": "stdout",
     "output_type": "stream",
     "text": [
      "[[ 0.245 -1.57   0.767  0.386  0.201  2.554  2.072 -1.05  -0.187 -0.088\n",
      "  -0.211]\n",
      " [-0.191 -1.09  -0.825 -0.961 -0.929 -1.08  -0.149 -0.186 -0.688 -0.088\n",
      "  -0.246]\n",
      " [-1.935 -1.57  -0.081 -1.094 -1.836 -0.599 -0.642 -1.112 -0.465 -0.088\n",
      "   0.391]\n",
      " [ 0.245 -0.13   0.023  1.292  0.388 -0.474 -0.466  1.109 -0.688 -0.088\n",
      "   0.077]\n",
      " [-0.191 -1.09   0.3   -0.221 -0.382  0.633  0.803 -0.865  0.815 -0.088\n",
      "  -0.253]\n",
      " [-0.191  0.35   0.179 -0.159 -0.318 -0.578  0.715 -0.31  -1.467 -0.088\n",
      "  -0.2  ]\n",
      " [ 0.681 -1.09   0.075  0.294  0.586 -0.432 -0.008 -0.31  -0.966 -0.088\n",
      "   4.049]\n",
      " [ 0.681 -0.13   0.404  0.409  0.642  0.027  1.561 -1.297 -0.966 -0.088\n",
      "  -0.253]\n",
      " [ 0.681  0.35   0.646 -0.392  0.585  1.426  0.221  0.122  0.537 -0.088\n",
      "   0.275]\n",
      " [ 0.681  0.35   0.317  0.114  0.488  0.654  0.133 -0.742  1.316 -0.088\n",
      "  -0.253]\n",
      " [-1.935  0.35   0.196 -1.193 -1.872 -0.015 -1.858  3.208  0.036  0.478\n",
      "  -0.253]]\n",
      "[[ 0.245  0.35   0.577  0.389  0.163  1.259  0.345 -0.68   0.537 -0.088\n",
      "  -0.112]\n",
      " [-2.371  1.309 -0.981 -1.283 -0.769 -1.184 -2.581  0.369  0.036 -0.088\n",
      "  -0.253]\n",
      " [-0.191  1.309  0.542 -0.142 -0.49   1.176 -0.114  2.282  0.314 -0.088\n",
      "  -0.208]\n",
      " [ 0.245 -0.61   0.802  1.656  0.576  1.865  1.649 -0.989 -1.188 -0.088\n",
      "  -0.135]\n",
      " [ 0.681  0.35   0.646 -0.392  0.585  1.426 -0.202 -0.495 -0.187 -0.088\n",
      "  -0.253]\n",
      " [ 0.245 -0.61   0.802  1.656  0.576  1.865  2.107 -1.606  0.314 -0.088\n",
      "  -0.253]\n",
      " [ 0.245 -1.09   0.698  1.57   0.54   0.09   1.596 -1.112 -0.966 -0.088\n",
      "  -0.253]\n",
      " [ 0.245  1.309  0.75   0.306  0.165  1.05   2.142 -1.112  0.815 -0.088\n",
      "  -0.253]\n",
      " [ 0.245  0.35   0.179  0.029  0.108 -0.036 -1.347  2.405  2.039 -0.088\n",
      "  -0.186]\n",
      " [ 0.245  1.309  0.525  1.925  0.708  0.215  0.926  0.307  0.036 -0.088\n",
      "  -0.253]\n",
      " [ 0.681 -0.13   0.386  0.131  0.95  -0.328 -0.36  -1.05   0.036 -0.088\n",
      "  -0.233]]\n"
     ]
    }
   ],
   "source": [
    "#Data Normalization\n",
    "# Standardize data (0 mean, 1 stdev)\n",
    "from sklearn.preprocessing import StandardScaler\n",
    "from numpy import set_printoptions\n",
    "array = forest_fire.values\n",
    "# separate array into input and output components\n",
    "\n",
    "X = forest_fire.iloc[:,0:11].values\n",
    "Y = forest_fire.iloc[:,11].values\n",
    "names = forest_fire.iloc[:,0:11].columns\n",
    "\n",
    "#Split this into train test split\n",
    "from sklearn.model_selection import train_test_split\n",
    "X_train,X_test,y_train,y_test=train_test_split(X,Y,test_size=0.3,random_state=5)\n",
    "\n",
    "#Feature Scaling\n",
    "scaler = StandardScaler()\n",
    "X_train = scaler.fit_transform(X_train)\n",
    "X_test = scaler.transform(X_test)\n",
    "# summarize transformed data\n",
    "set_printoptions(precision=3)\n",
    "print(X_train[0:11,:])\n",
    "print(X_test[0:11,:])"
   ]
  },
  {
   "cell_type": "code",
   "execution_count": 136,
   "metadata": {},
   "outputs": [
    {
     "data": {
      "text/plain": [
       "(361, 11)"
      ]
     },
     "execution_count": 136,
     "metadata": {},
     "output_type": "execute_result"
    }
   ],
   "source": [
    "X_train.shape"
   ]
  },
  {
   "cell_type": "code",
   "execution_count": 137,
   "metadata": {},
   "outputs": [
    {
     "data": {
      "text/plain": [
       "(156, 11)"
      ]
     },
     "execution_count": 137,
     "metadata": {},
     "output_type": "execute_result"
    }
   ],
   "source": [
    "X_test.shape"
   ]
  },
  {
   "cell_type": "code",
   "execution_count": 139,
   "metadata": {},
   "outputs": [
    {
     "name": "stdout",
     "output_type": "stream",
     "text": [
      "[0.032 0.037 0.038 0.038 0.039 0.034 0.053 0.05  0.053 0.006 0.622]\n",
      "Index(['month', 'day', 'FFMC', 'DMC', 'DC', 'ISI', 'temp', 'RH', 'wind',\n",
      "       'rain', 'area'],\n",
      "      dtype='object')\n"
     ]
    }
   ],
   "source": [
    "# Decide the Feature Importance with Extra Trees Classifier\n",
    "from sklearn.ensemble import ExtraTreesClassifier\n",
    "\n",
    "#Now combine train and test data into one dataset\n",
    "X1 = np.append(X_train,X_test,axis=0)\n",
    "Y1 = np.append(y_train, y_test,axis=0)\n",
    "\n",
    "print(X1.shape)\n",
    "print(Y1.shape)\n",
    "#print(X1[0:2,])\n",
    "#print(Y1[0:2,])\n",
    "\n",
    "# feature extraction\n",
    "model = ExtraTreesClassifier(n_estimators = 15, criterion ='gini')\n",
    "model.fit(X1, Y1)\n",
    "print(model.feature_importances_)\n",
    "#print(model.n_features_)\n",
    "print(names)"
   ]
  },
  {
   "cell_type": "code",
   "execution_count": 140,
   "metadata": {},
   "outputs": [
    {
     "data": {
      "image/png": "[encoded data removed]",
      "text/plain": [
       "<Figure size 432x288 with 1 Axes>"
      ]
     },
     "metadata": {},
     "output_type": "display_data"
    }
   ],
   "source": [
    "# Plotting a Bar Graph to compare the features\n",
    "plt.bar(names, model.feature_importances_) \n",
    "plt.xlabel('Feature Labels') \n",
    "plt.ylabel('Feature Importances') \n",
    "plt.title('Comparison of different Feature Importances') \n",
    "plt.show() \n",
    "#Based on the output, we are removing rain as it has least significance, retaining other features\n",
    "#Highly significant feature is area"
   ]
  },
  {
   "cell_type": "code",
   "execution_count": 150,
   "metadata": {},
   "outputs": [
    {
     "name": "stdout",
     "output_type": "stream",
     "text": [
      "[ True False False False  True False  True  True  True  True  True]\n",
      "Index(['month', 'day', 'FFMC', 'DMC', 'DC', 'ISI', 'temp', 'RH', 'wind',\n",
      "       'rain', 'area'],\n",
      "      dtype='object')\n"
     ]
    }
   ],
   "source": [
    "#####################################################\n",
    "# Feature Importance Method2\n",
    "from sklearn.linear_model import Lasso\n",
    "from sklearn.feature_selection import SelectFromModel\n",
    "model=SelectFromModel(Lasso(alpha=0.01,random_state=None))\n",
    "model.fit(X1, Y1)\n",
    "print(model.get_support())\n",
    "print(names)"
   ]
  },
  {
   "cell_type": "code",
   "execution_count": 154,
   "metadata": {},
   "outputs": [
    {
     "name": "stdout",
     "output_type": "stream",
     "text": [
      "Before (517, 11)\n",
      "Before: Index(['month', 'day', 'FFMC', 'DMC', 'DC', 'ISI', 'temp', 'RH', 'wind',\n",
      "       'rain', 'area'],\n",
      "      dtype='object')\n",
      "After; (517, 10)\n",
      "After: Index(['month', 'day', 'FFMC', 'DMC', 'DC', 'ISI', 'temp', 'RH', 'wind',\n",
      "       'rain', 'area'],\n",
      "      dtype='object')\n",
      "[[ 0.245 -1.57   0.767  0.386  0.201  2.554  2.072 -1.05  -0.187 -0.211]\n",
      " [-0.191 -1.09  -0.825 -0.961 -0.929 -1.08  -0.149 -0.186 -0.688 -0.246]]\n"
     ]
    }
   ],
   "source": [
    "#Remove Unwanted Feature\n",
    "print('Before', X1.shape)\n",
    "print('Before:', names)\n",
    "X1 = np.delete(X1,9,axis=1)\n",
    "print('After;',X1.shape)\n",
    "#print(X1[0:2,])"
   ]
  },
  {
   "cell_type": "code",
   "execution_count": 155,
   "metadata": {},
   "outputs": [
    {
     "name": "stdout",
     "output_type": "stream",
     "text": [
      "before train (361, 11)\n",
      "before test (156, 11)\n",
      "after train (361, 10)\n",
      "after test (156, 10)\n"
     ]
    }
   ],
   "source": [
    "#Delete unwanted feature from train and test data-set\n",
    "#print('before train',X_train.shape)\n",
    "#print('before test',X_test.shape)\n",
    "X_train = np.delete(X_train,9, axis=1)\n",
    "X_test = np.delete(X_test,9, axis=1)\n",
    "#print('after train', X_train.shape)\n",
    "#print('after test', X_test.shape)"
   ]
  },
  {
   "cell_type": "code",
   "execution_count": 156,
   "metadata": {},
   "outputs": [
    {
     "name": "stdout",
     "output_type": "stream",
     "text": [
      "0.9358974358974359\n"
     ]
    }
   ],
   "source": [
    "# SVM Model building \n",
    "from sklearn.model_selection import KFold\n",
    "from sklearn.model_selection import cross_val_score\n",
    "from sklearn.svm import SVC\n",
    "\n",
    "model = SVC(C=1, kernel='linear', random_state=0)\n",
    "model.fit(X_train,y_train)\n",
    "y_pred = model.predict(X_test)\n",
    "\n",
    "#get Model Accuracy\n",
    "from sklearn.metrics import accuracy_score\n",
    "accuracy = accuracy_score(y_test, y_pred)\n",
    "print(accuracy)"
   ]
  },
  {
   "cell_type": "code",
   "execution_count": 157,
   "metadata": {},
   "outputs": [
    {
     "name": "stdout",
     "output_type": "stream",
     "text": [
      "0.9888888888888889\n",
      "{'C': 100, 'kernel': 'linear'}\n",
      "SVC(C=100, break_ties=False, cache_size=200, class_weight=None, coef0=0.0,\n",
      "    decision_function_shape='ovr', degree=3, gamma='scale', kernel='linear',\n",
      "    max_iter=-1, probability=False, random_state=0, shrinking=True, tol=0.001,\n",
      "    verbose=False)\n"
     ]
    }
   ],
   "source": [
    "#Implement GridSearch CV for Hyperparameters\n",
    "from sklearn.model_selection import GridSearchCV\n",
    "parameters = [{'C': [0.1, 1, 10, 100], 'kernel': ['linear']},\n",
    "              {'C': [0.1, 1, 10, 100], 'kernel': ['rbf'], 'gamma': [0.1, 0.2, 0.3, 0.4, 0.5,0.6,0.7]}] \n",
    "\n",
    "grid_search = GridSearchCV(estimator=model, \n",
    "                          param_grid=parameters,\n",
    "                          scoring='accuracy',\n",
    "                          cv=10,\n",
    "                          n_jobs=-1)\n",
    "\n",
    "grid_search = grid_search.fit(X_train,y_train)\n",
    "\n",
    "print(grid_search.best_score_)\n",
    "print(grid_search.best_params_)\n",
    "print(grid_search.best_estimator_)"
   ]
  },
  {
   "cell_type": "code",
   "execution_count": 158,
   "metadata": {},
   "outputs": [],
   "source": [
    "#Best Fit Model based on Hyperparametres\n",
    "model = SVC(C=100, kernel='linear')\n",
    "model.fit(X_train,y_train)\n",
    "y_pred = model.predict(X_test)"
   ]
  },
  {
   "cell_type": "code",
   "execution_count": 159,
   "metadata": {},
   "outputs": [
    {
     "name": "stdout",
     "output_type": "stream",
     "text": [
      "[[118   2]\n",
      " [  4  32]]\n",
      "0.9615384615384616\n"
     ]
    }
   ],
   "source": [
    "#Print Confusion Matrix and model accuracy\n",
    "from sklearn.metrics import confusion_matrix\n",
    "cn = confusion_matrix(y_test, y_pred)\n",
    "print(cn)\n",
    "#Get the accuracy score\n",
    "accuracy = accuracy_score(y_test, y_pred)\n",
    "print(accuracy) #Based on the output, accuracy score has improved"
   ]
  }
 ],
 "metadata": {
  "kernelspec": {
   "display_name": "Python 3",
   "language": "python",
   "name": "python3"
  },
  "language_info": {
   "codemirror_mode": {
    "name": "ipython",
    "version": 3
   },
   "file_extension": ".py",
   "mimetype": "text/x-python",
   "name": "python",
   "nbconvert_exporter": "python",
   "pygments_lexer": "ipython3",
   "version": "3.7.6"
  }
 },
 "nbformat": 4,
 "nbformat_minor": 4
}
